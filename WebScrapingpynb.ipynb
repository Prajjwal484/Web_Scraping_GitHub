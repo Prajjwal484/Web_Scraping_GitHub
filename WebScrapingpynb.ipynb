{
  "nbformat": 4,
  "nbformat_minor": 0,
  "metadata": {
    "colab": {
      "provenance": [],
      "authorship_tag": "ABX9TyPinl9DH9umaN1taXcUl6e3",
      "include_colab_link": true
    },
    "kernelspec": {
      "name": "python3",
      "display_name": "Python 3"
    },
    "language_info": {
      "name": "python"
    }
  },
  "cells": [
    {
      "cell_type": "markdown",
      "metadata": {
        "id": "view-in-github",
        "colab_type": "text"
      },
      "source": [
        "<a href=\"https://colab.research.google.com/github/Prajjwal484/Web_Scraping_GitHub/blob/main/WebScrapingpynb.ipynb\" target=\"_parent\"><img src=\"https://colab.research.google.com/assets/colab-badge.svg\" alt=\"Open In Colab\"/></a>"
      ]
    },
    {
      "cell_type": "markdown",
      "source": [
        "# Scraping Top Repositories for Topics On GitHub\n",
        "\n",
        "TODO(Intro):\n",
        "- Introduction about web scraping\n",
        "- Introduction about GitHub and the problem statement\n",
        "- Mention the tools you're using i.e(Python, requests, Beautiful Soup, Pandas)"
      ],
      "metadata": {
        "id": "ZaCSi5bbP8yE"
      }
    },
    {
      "cell_type": "markdown",
      "source": [
        "#Here are the streps we'll follow:\n",
        "\n",
        "- We're going to scrape https://github.com/topics\n",
        "- we'll get a list of topics. For each topic, we'll get topic title, topic page URL and topic description\n",
        "- For each topic, well get the top 25 repositories in the topic from the topic page\n",
        "- For each repository, we'll grab the repo name, username, stars and repo URL\n",
        "- For each topic we'll create a CSV file in the following Format:\n",
        "\n",
        "  Reppo name, Username, Stars, Repo URL\n",
        "  three.js,mrdoob,69700,https://github.com/mrdoob/three.js\n",
        "  libgdx,libgdx,18300,https://github.com/libgdx/libgdx\n",
        "\n"
      ],
      "metadata": {
        "id": "2JLkt-5lQwiz"
      }
    },
    {
      "cell_type": "markdown",
      "source": [
        "## Scrape the list of topics from GitHub\n",
        "\n",
        "Explain how you'll do it.\n",
        "\n",
        "- use requests to download the page\n",
        "- use BS4 to parse and extract information\n",
        "- convert to a Pandas dataframe\n"
      ],
      "metadata": {
        "id": "dJEHSCb7SOAw"
      }
    },
    {
      "cell_type": "code",
      "source": [
        "!pip install requests --upgrade"
      ],
      "metadata": {
        "colab": {
          "base_uri": "https://localhost:8080/"
        },
        "id": "guTE0LNXOOPf",
        "outputId": "5cfdf8d7-c6d2-43b4-b955-c418af8a3085"
      },
      "execution_count": 198,
      "outputs": [
        {
          "output_type": "stream",
          "name": "stdout",
          "text": [
            "Requirement already satisfied: requests in /usr/local/lib/python3.10/dist-packages (2.32.3)\n",
            "Requirement already satisfied: charset-normalizer<4,>=2 in /usr/local/lib/python3.10/dist-packages (from requests) (3.4.0)\n",
            "Requirement already satisfied: idna<4,>=2.5 in /usr/local/lib/python3.10/dist-packages (from requests) (3.10)\n",
            "Requirement already satisfied: urllib3<3,>=1.21.1 in /usr/local/lib/python3.10/dist-packages (from requests) (2.2.3)\n",
            "Requirement already satisfied: certifi>=2017.4.17 in /usr/local/lib/python3.10/dist-packages (from requests) (2024.8.30)\n"
          ]
        }
      ]
    },
    {
      "cell_type": "code",
      "source": [
        "import requests"
      ],
      "metadata": {
        "id": "LnzzcS9iOYlT"
      },
      "execution_count": 199,
      "outputs": []
    },
    {
      "cell_type": "code",
      "source": [],
      "metadata": {
        "id": "9dtE4Jd9Qhas"
      },
      "execution_count": 199,
      "outputs": []
    },
    {
      "cell_type": "markdown",
      "source": [
        "Step 1 getting topics from"
      ],
      "metadata": {
        "id": "ljjo9mNq6u0p"
      }
    },
    {
      "cell_type": "code",
      "source": [
        "topics_url = 'https://github.com/topics'"
      ],
      "metadata": {
        "id": "ra0pcBdKO3uC"
      },
      "execution_count": 200,
      "outputs": []
    },
    {
      "cell_type": "code",
      "source": [
        "response = requests.get(topics_url)"
      ],
      "metadata": {
        "id": "BLUJAMjv7Az1"
      },
      "execution_count": 201,
      "outputs": []
    },
    {
      "cell_type": "code",
      "source": [
        "response.status_code"
      ],
      "metadata": {
        "colab": {
          "base_uri": "https://localhost:8080/"
        },
        "id": "obPGXkz07d3W",
        "outputId": "d7223fb3-4421-4367-e730-65bae6e87624"
      },
      "execution_count": 202,
      "outputs": [
        {
          "output_type": "execute_result",
          "data": {
            "text/plain": [
              "200"
            ]
          },
          "metadata": {},
          "execution_count": 202
        }
      ]
    },
    {
      "cell_type": "code",
      "source": [
        "len(response.text)"
      ],
      "metadata": {
        "colab": {
          "base_uri": "https://localhost:8080/"
        },
        "id": "RBc8IQCA8Ilo",
        "outputId": "35ccb145-51de-447b-b758-87712db92139"
      },
      "execution_count": 203,
      "outputs": [
        {
          "output_type": "execute_result",
          "data": {
            "text/plain": [
              "205140"
            ]
          },
          "metadata": {},
          "execution_count": 203
        }
      ]
    },
    {
      "cell_type": "code",
      "source": [
        "page_contents = response.text"
      ],
      "metadata": {
        "id": "FaJUOb758ED5"
      },
      "execution_count": 204,
      "outputs": []
    },
    {
      "cell_type": "code",
      "source": [
        "page_contents[:1000]"
      ],
      "metadata": {
        "colab": {
          "base_uri": "https://localhost:8080/",
          "height": 123
        },
        "id": "_w4T9fo08ZVK",
        "outputId": "ab148c7a-1e69-432f-fbb4-2a8e84da32f9"
      },
      "execution_count": 205,
      "outputs": [
        {
          "output_type": "execute_result",
          "data": {
            "text/plain": [
              "'\\n\\n<!DOCTYPE html>\\n<html\\n  lang=\"en\"\\n  \\n  data-color-mode=\"auto\" data-light-theme=\"light\" data-dark-theme=\"dark\"\\n  data-a11y-animated-images=\"system\" data-a11y-link-underlines=\"true\"\\n  \\n  >\\n\\n\\n\\n  <head>\\n    <meta charset=\"utf-8\">\\n  <link rel=\"dns-prefetch\" href=\"https://github.githubassets.com\">\\n  <link rel=\"dns-prefetch\" href=\"https://avatars.githubusercontent.com\">\\n  <link rel=\"dns-prefetch\" href=\"https://github-cloud.s3.amazonaws.com\">\\n  <link rel=\"dns-prefetch\" href=\"https://user-images.githubusercontent.com/\">\\n  <link rel=\"preconnect\" href=\"https://github.githubassets.com\" crossorigin>\\n  <link rel=\"preconnect\" href=\"https://avatars.githubusercontent.com\">\\n\\n  \\n\\n  <link crossorigin=\"anonymous\" media=\"all\" rel=\"stylesheet\" href=\"https://github.githubassets.com/assets/light-3e154969b9f9.css\" /><link crossorigin=\"anonymous\" media=\"all\" rel=\"stylesheet\" href=\"https://github.githubassets.com/assets/dark-9c5b7a476542.css\" /><link data-color-theme=\"dark_dimmed\" crossorigin=\"anonymous\" media='"
            ],
            "application/vnd.google.colaboratory.intrinsic+json": {
              "type": "string"
            }
          },
          "metadata": {},
          "execution_count": 205
        }
      ]
    },
    {
      "cell_type": "code",
      "source": [
        "with open ('webpage.html', 'w') as f:\n",
        "  f.write(page_contents)"
      ],
      "metadata": {
        "id": "XglSs2pM8fnZ"
      },
      "execution_count": 206,
      "outputs": []
    },
    {
      "cell_type": "markdown",
      "source": [
        "To Extract details from web page"
      ],
      "metadata": {
        "id": "omqr_XtB9gCx"
      }
    },
    {
      "cell_type": "code",
      "source": [
        "! pip install beautifulsoup4 --upgrade"
      ],
      "metadata": {
        "colab": {
          "base_uri": "https://localhost:8080/"
        },
        "id": "AnNzTTKa8rVY",
        "outputId": "ba672fbd-116f-4946-eb44-9327771ddfb7"
      },
      "execution_count": 207,
      "outputs": [
        {
          "output_type": "stream",
          "name": "stdout",
          "text": [
            "Requirement already satisfied: beautifulsoup4 in /usr/local/lib/python3.10/dist-packages (4.12.3)\n",
            "Requirement already satisfied: soupsieve>1.2 in /usr/local/lib/python3.10/dist-packages (from beautifulsoup4) (2.6)\n"
          ]
        }
      ]
    },
    {
      "cell_type": "code",
      "source": [
        "from bs4 import BeautifulSoup"
      ],
      "metadata": {
        "id": "U8IynRll9u5z"
      },
      "execution_count": 208,
      "outputs": []
    },
    {
      "cell_type": "code",
      "source": [
        "doc = BeautifulSoup(page_contents, 'html.parser')"
      ],
      "metadata": {
        "id": "qWOOOBi8-PBh"
      },
      "execution_count": 209,
      "outputs": []
    },
    {
      "cell_type": "code",
      "source": [
        "selection_class = 'f3 lh-condensed mb-0 mt-1 Link--primary'\n",
        "topic_title_tags = doc.find_all('p',{'class' : selection_class})"
      ],
      "metadata": {
        "id": "fpUnp-rk-tkC"
      },
      "execution_count": 210,
      "outputs": []
    },
    {
      "cell_type": "code",
      "source": [
        "len(topic_title_tags)"
      ],
      "metadata": {
        "colab": {
          "base_uri": "https://localhost:8080/"
        },
        "id": "Jp7dGVsl-ZjY",
        "outputId": "f0fd75c4-e359-4795-ab68-d43eb0c730ac"
      },
      "execution_count": 211,
      "outputs": [
        {
          "output_type": "execute_result",
          "data": {
            "text/plain": [
              "30"
            ]
          },
          "metadata": {},
          "execution_count": 211
        }
      ]
    },
    {
      "cell_type": "code",
      "source": [
        "topic_title_tags[:5]"
      ],
      "metadata": {
        "colab": {
          "base_uri": "https://localhost:8080/"
        },
        "id": "JoX6pE5v-fpQ",
        "outputId": "bfd5f80f-aa82-4750-c7c9-269ba5448f38"
      },
      "execution_count": 212,
      "outputs": [
        {
          "output_type": "execute_result",
          "data": {
            "text/plain": [
              "[<p class=\"f3 lh-condensed mb-0 mt-1 Link--primary\">3D</p>,\n",
              " <p class=\"f3 lh-condensed mb-0 mt-1 Link--primary\">Ajax</p>,\n",
              " <p class=\"f3 lh-condensed mb-0 mt-1 Link--primary\">Algorithm</p>,\n",
              " <p class=\"f3 lh-condensed mb-0 mt-1 Link--primary\">Amp</p>,\n",
              " <p class=\"f3 lh-condensed mb-0 mt-1 Link--primary\">Android</p>]"
            ]
          },
          "metadata": {},
          "execution_count": 212
        }
      ]
    },
    {
      "cell_type": "code",
      "source": [
        "desc_selector = 'f5 color-fg-muted mb-0 mt-1'\n",
        "topic_desc_tags = doc.find_all('p', {'class': desc_selector})"
      ],
      "metadata": {
        "id": "VbtCwp8F_iom"
      },
      "execution_count": 213,
      "outputs": []
    },
    {
      "cell_type": "code",
      "source": [
        "topic_desc_tags[:5]"
      ],
      "metadata": {
        "colab": {
          "base_uri": "https://localhost:8080/"
        },
        "id": "3ywVTe2yCoiC",
        "outputId": "8931ace6-35d7-4577-b853-db6782fe93f8"
      },
      "execution_count": 214,
      "outputs": [
        {
          "output_type": "execute_result",
          "data": {
            "text/plain": [
              "[<p class=\"f5 color-fg-muted mb-0 mt-1\">\n",
              "           3D refers to the use of three-dimensional graphics, modeling, and animation in various industries.\n",
              "         </p>,\n",
              " <p class=\"f5 color-fg-muted mb-0 mt-1\">\n",
              "           Ajax is a technique for creating interactive web applications.\n",
              "         </p>,\n",
              " <p class=\"f5 color-fg-muted mb-0 mt-1\">\n",
              "           Algorithms are self-contained sequences that carry out a variety of tasks.\n",
              "         </p>,\n",
              " <p class=\"f5 color-fg-muted mb-0 mt-1\">\n",
              "           Amp is a non-blocking concurrency library for PHP.\n",
              "         </p>,\n",
              " <p class=\"f5 color-fg-muted mb-0 mt-1\">\n",
              "           Android is an operating system built by Google designed for mobile devices.\n",
              "         </p>]"
            ]
          },
          "metadata": {},
          "execution_count": 214
        }
      ]
    },
    {
      "cell_type": "code",
      "source": [],
      "metadata": {
        "id": "4-r21id8CtiL"
      },
      "execution_count": 214,
      "outputs": []
    },
    {
      "cell_type": "code",
      "source": [
        "topic_title_tag0 = topic_title_tags[0]"
      ],
      "metadata": {
        "id": "6bbWOsSiDkZe"
      },
      "execution_count": 215,
      "outputs": []
    },
    {
      "cell_type": "code",
      "source": [
        "div_tag = topic_title_tag0.parent"
      ],
      "metadata": {
        "id": "r0PAhUsNDxWI"
      },
      "execution_count": 216,
      "outputs": []
    },
    {
      "cell_type": "code",
      "source": [
        "topic_link_tags = doc.find_all('a', {'class': 'no-underline flex-grow-0'})"
      ],
      "metadata": {
        "id": "IxxqQ2cJD4VK"
      },
      "execution_count": 217,
      "outputs": []
    },
    {
      "cell_type": "code",
      "source": [
        "len(topic_link_tags)"
      ],
      "metadata": {
        "colab": {
          "base_uri": "https://localhost:8080/"
        },
        "id": "Ja71L5OkERbM",
        "outputId": "4a0629ba-1da4-499c-f113-1057ff66e82c"
      },
      "execution_count": 218,
      "outputs": [
        {
          "output_type": "execute_result",
          "data": {
            "text/plain": [
              "30"
            ]
          },
          "metadata": {},
          "execution_count": 218
        }
      ]
    },
    {
      "cell_type": "code",
      "source": [
        "topic0_url = \"https://github.com\" + topic_link_tags[0]['href']\n",
        "print(topic0_url)"
      ],
      "metadata": {
        "colab": {
          "base_uri": "https://localhost:8080/"
        },
        "id": "3FCeT32kE8J4",
        "outputId": "d9bc7d3f-b85d-4b69-fd28-d43e813220d8"
      },
      "execution_count": 219,
      "outputs": [
        {
          "output_type": "stream",
          "name": "stdout",
          "text": [
            "https://github.com/topics/3d\n"
          ]
        }
      ]
    },
    {
      "cell_type": "code",
      "source": [
        "topic_titles = []\n",
        "\n",
        "for tag in topic_title_tags:\n",
        "  topic_titles.append(tag.text)\n",
        "\n",
        "print(topic_titles)"
      ],
      "metadata": {
        "colab": {
          "base_uri": "https://localhost:8080/"
        },
        "id": "DgxJ_0qbG9WQ",
        "outputId": "589a6f18-59fa-48ff-d459-4b89706b34cf"
      },
      "execution_count": 220,
      "outputs": [
        {
          "output_type": "stream",
          "name": "stdout",
          "text": [
            "['3D', 'Ajax', 'Algorithm', 'Amp', 'Android', 'Angular', 'Ansible', 'API', 'Arduino', 'ASP.NET', 'Awesome Lists', 'Amazon Web Services', 'Azure', 'Babel', 'Bash', 'Bitcoin', 'Bootstrap', 'Bot', 'C', 'Chrome', 'Chrome extension', 'Command-line interface', 'Clojure', 'Code quality', 'Code review', 'Compiler', 'Continuous integration', 'C++', 'Cryptocurrency', 'Crystal']\n"
          ]
        }
      ]
    },
    {
      "cell_type": "code",
      "source": [
        "topic_descs =[]\n",
        "\n",
        "for tag in topic_desc_tags:\n",
        "  topic_descs.append(tag.text.strip())\n",
        "\n",
        "topic_descs"
      ],
      "metadata": {
        "colab": {
          "base_uri": "https://localhost:8080/"
        },
        "id": "-InJ46jiHnTG",
        "outputId": "c179198d-82e9-4d87-81cb-e5e741923d3b"
      },
      "execution_count": 221,
      "outputs": [
        {
          "output_type": "execute_result",
          "data": {
            "text/plain": [
              "['3D refers to the use of three-dimensional graphics, modeling, and animation in various industries.',\n",
              " 'Ajax is a technique for creating interactive web applications.',\n",
              " 'Algorithms are self-contained sequences that carry out a variety of tasks.',\n",
              " 'Amp is a non-blocking concurrency library for PHP.',\n",
              " 'Android is an operating system built by Google designed for mobile devices.',\n",
              " 'Angular is an open source web application platform.',\n",
              " 'Ansible is a simple and powerful automation engine.',\n",
              " 'An API (Application Programming Interface) is a collection of protocols and subroutines for building software.',\n",
              " 'Arduino is an open source platform for building electronic devices.',\n",
              " 'ASP.NET is a web framework for building modern web apps and services.',\n",
              " 'An awesome list is a list of awesome things curated by the community.',\n",
              " 'Amazon Web Services provides on-demand cloud computing platforms on a subscription basis.',\n",
              " 'Azure is a cloud computing service created by Microsoft.',\n",
              " 'Babel is a compiler for writing next generation JavaScript, today.',\n",
              " 'Bash is a shell and command language interpreter for the GNU operating system.',\n",
              " 'Bitcoin is a cryptocurrency developed by Satoshi Nakamoto.',\n",
              " 'Bootstrap is an HTML, CSS, and JavaScript framework.',\n",
              " 'A bot is an application that runs automated tasks over the Internet.',\n",
              " 'C is a general purpose programming language that first appeared in 1972.',\n",
              " 'Chrome is a web browser from the tech company Google.',\n",
              " 'Chrome extensions enable users to customize the Chrome browsing experience.',\n",
              " 'A CLI, or command-line interface, is a console that helps users issue commands to a program.',\n",
              " 'Clojure is a dynamic, general-purpose programming language.',\n",
              " 'Automate your code review with style, quality, security, and test‑coverage checks when you need them.',\n",
              " 'Ensure your code meets quality standards and ship with confidence.',\n",
              " 'Compilers are software that translate higher-level programming languages to lower-level languages (e.g. machine code).',\n",
              " 'Automatically build and test your code as you push it upstream, preventing bugs from being deployed to production.',\n",
              " 'C++ is a general purpose and object-oriented programming language.',\n",
              " 'A cryptocurrency is a digital currency that uses cryptography.',\n",
              " 'Crystal is a self-hosted, general purpose programming language.']"
            ]
          },
          "metadata": {},
          "execution_count": 221
        }
      ]
    },
    {
      "cell_type": "code",
      "source": [
        "topic_urls =[]\n",
        "\n",
        "base_url = 'https://github.com'\n",
        "\n",
        "for tag in topic_link_tags:\n",
        "  topic_urls.append(base_url + tag['href'])\n",
        "\n",
        "topic_urls"
      ],
      "metadata": {
        "colab": {
          "base_uri": "https://localhost:8080/"
        },
        "id": "k8UzJIlYIohc",
        "outputId": "a404354a-a927-4ac6-fe2a-8d64990873f8"
      },
      "execution_count": 222,
      "outputs": [
        {
          "output_type": "execute_result",
          "data": {
            "text/plain": [
              "['https://github.com/topics/3d',\n",
              " 'https://github.com/topics/ajax',\n",
              " 'https://github.com/topics/algorithm',\n",
              " 'https://github.com/topics/amphp',\n",
              " 'https://github.com/topics/android',\n",
              " 'https://github.com/topics/angular',\n",
              " 'https://github.com/topics/ansible',\n",
              " 'https://github.com/topics/api',\n",
              " 'https://github.com/topics/arduino',\n",
              " 'https://github.com/topics/aspnet',\n",
              " 'https://github.com/topics/awesome',\n",
              " 'https://github.com/topics/aws',\n",
              " 'https://github.com/topics/azure',\n",
              " 'https://github.com/topics/babel',\n",
              " 'https://github.com/topics/bash',\n",
              " 'https://github.com/topics/bitcoin',\n",
              " 'https://github.com/topics/bootstrap',\n",
              " 'https://github.com/topics/bot',\n",
              " 'https://github.com/topics/c',\n",
              " 'https://github.com/topics/chrome',\n",
              " 'https://github.com/topics/chrome-extension',\n",
              " 'https://github.com/topics/cli',\n",
              " 'https://github.com/topics/clojure',\n",
              " 'https://github.com/topics/code-quality',\n",
              " 'https://github.com/topics/code-review',\n",
              " 'https://github.com/topics/compiler',\n",
              " 'https://github.com/topics/continuous-integration',\n",
              " 'https://github.com/topics/cpp',\n",
              " 'https://github.com/topics/cryptocurrency',\n",
              " 'https://github.com/topics/crystal']"
            ]
          },
          "metadata": {},
          "execution_count": 222
        }
      ]
    },
    {
      "cell_type": "code",
      "source": [],
      "metadata": {
        "id": "wtfZG40ZJR2x"
      },
      "execution_count": 222,
      "outputs": []
    },
    {
      "cell_type": "markdown",
      "source": [
        "Create Csv File\n"
      ],
      "metadata": {
        "id": "ZWU7upl-6yl0"
      }
    },
    {
      "cell_type": "code",
      "source": [
        "!pip install pandas"
      ],
      "metadata": {
        "colab": {
          "base_uri": "https://localhost:8080/"
        },
        "id": "KVx71gUU60zA",
        "outputId": "aad633ed-a8c7-46ef-b7f9-f81ab10cdf4a"
      },
      "execution_count": 223,
      "outputs": [
        {
          "output_type": "stream",
          "name": "stdout",
          "text": [
            "Requirement already satisfied: pandas in /usr/local/lib/python3.10/dist-packages (2.2.2)\n",
            "Requirement already satisfied: numpy>=1.22.4 in /usr/local/lib/python3.10/dist-packages (from pandas) (1.26.4)\n",
            "Requirement already satisfied: python-dateutil>=2.8.2 in /usr/local/lib/python3.10/dist-packages (from pandas) (2.8.2)\n",
            "Requirement already satisfied: pytz>=2020.1 in /usr/local/lib/python3.10/dist-packages (from pandas) (2024.2)\n",
            "Requirement already satisfied: tzdata>=2022.7 in /usr/local/lib/python3.10/dist-packages (from pandas) (2024.2)\n",
            "Requirement already satisfied: six>=1.5 in /usr/local/lib/python3.10/dist-packages (from python-dateutil>=2.8.2->pandas) (1.16.0)\n"
          ]
        }
      ]
    },
    {
      "cell_type": "code",
      "source": [
        "import pandas as pd"
      ],
      "metadata": {
        "id": "nVq2vh0j64cQ"
      },
      "execution_count": 224,
      "outputs": []
    },
    {
      "cell_type": "code",
      "source": [
        "topics_dict = {\n",
        "    'title': topic_titles,\n",
        "    'description': topic_descs,\n",
        "    'url': topic_urls\n",
        "}"
      ],
      "metadata": {
        "id": "RAefEZ2p7XiX"
      },
      "execution_count": 225,
      "outputs": []
    },
    {
      "cell_type": "code",
      "source": [
        " topics_df = pd.DataFrame(topics_dict)"
      ],
      "metadata": {
        "id": "fFy2boHA67hi"
      },
      "execution_count": 226,
      "outputs": []
    },
    {
      "cell_type": "code",
      "source": [
        "topics_df"
      ],
      "metadata": {
        "colab": {
          "base_uri": "https://localhost:8080/",
          "height": 990
        },
        "id": "sEWG7TjJ7rN5",
        "outputId": "8d2a780b-1651-4705-82c3-b74eaa6951b9"
      },
      "execution_count": 227,
      "outputs": [
        {
          "output_type": "execute_result",
          "data": {
            "text/plain": [
              "                     title                                        description  \\\n",
              "0                       3D  3D refers to the use of three-dimensional grap...   \n",
              "1                     Ajax  Ajax is a technique for creating interactive w...   \n",
              "2                Algorithm  Algorithms are self-contained sequences that c...   \n",
              "3                      Amp  Amp is a non-blocking concurrency library for ...   \n",
              "4                  Android  Android is an operating system built by Google...   \n",
              "5                  Angular  Angular is an open source web application plat...   \n",
              "6                  Ansible  Ansible is a simple and powerful automation en...   \n",
              "7                      API  An API (Application Programming Interface) is ...   \n",
              "8                  Arduino  Arduino is an open source platform for buildin...   \n",
              "9                  ASP.NET  ASP.NET is a web framework for building modern...   \n",
              "10           Awesome Lists  An awesome list is a list of awesome things cu...   \n",
              "11     Amazon Web Services  Amazon Web Services provides on-demand cloud c...   \n",
              "12                   Azure  Azure is a cloud computing service created by ...   \n",
              "13                   Babel  Babel is a compiler for writing next generatio...   \n",
              "14                    Bash  Bash is a shell and command language interpret...   \n",
              "15                 Bitcoin  Bitcoin is a cryptocurrency developed by Satos...   \n",
              "16               Bootstrap  Bootstrap is an HTML, CSS, and JavaScript fram...   \n",
              "17                     Bot  A bot is an application that runs automated ta...   \n",
              "18                       C  C is a general purpose programming language th...   \n",
              "19                  Chrome  Chrome is a web browser from the tech company ...   \n",
              "20        Chrome extension  Chrome extensions enable users to customize th...   \n",
              "21  Command-line interface  A CLI, or command-line interface, is a console...   \n",
              "22                 Clojure  Clojure is a dynamic, general-purpose programm...   \n",
              "23            Code quality  Automate your code review with style, quality,...   \n",
              "24             Code review  Ensure your code meets quality standards and s...   \n",
              "25                Compiler  Compilers are software that translate higher-l...   \n",
              "26  Continuous integration  Automatically build and test your code as you ...   \n",
              "27                     C++  C++ is a general purpose and object-oriented p...   \n",
              "28          Cryptocurrency  A cryptocurrency is a digital currency that us...   \n",
              "29                 Crystal  Crystal is a self-hosted, general purpose prog...   \n",
              "\n",
              "                                                 url  \n",
              "0                       https://github.com/topics/3d  \n",
              "1                     https://github.com/topics/ajax  \n",
              "2                https://github.com/topics/algorithm  \n",
              "3                    https://github.com/topics/amphp  \n",
              "4                  https://github.com/topics/android  \n",
              "5                  https://github.com/topics/angular  \n",
              "6                  https://github.com/topics/ansible  \n",
              "7                      https://github.com/topics/api  \n",
              "8                  https://github.com/topics/arduino  \n",
              "9                   https://github.com/topics/aspnet  \n",
              "10                 https://github.com/topics/awesome  \n",
              "11                     https://github.com/topics/aws  \n",
              "12                   https://github.com/topics/azure  \n",
              "13                   https://github.com/topics/babel  \n",
              "14                    https://github.com/topics/bash  \n",
              "15                 https://github.com/topics/bitcoin  \n",
              "16               https://github.com/topics/bootstrap  \n",
              "17                     https://github.com/topics/bot  \n",
              "18                       https://github.com/topics/c  \n",
              "19                  https://github.com/topics/chrome  \n",
              "20        https://github.com/topics/chrome-extension  \n",
              "21                     https://github.com/topics/cli  \n",
              "22                 https://github.com/topics/clojure  \n",
              "23            https://github.com/topics/code-quality  \n",
              "24             https://github.com/topics/code-review  \n",
              "25                https://github.com/topics/compiler  \n",
              "26  https://github.com/topics/continuous-integration  \n",
              "27                     https://github.com/topics/cpp  \n",
              "28          https://github.com/topics/cryptocurrency  \n",
              "29                 https://github.com/topics/crystal  "
            ],
            "text/html": [
              "\n",
              "  <div id=\"df-4ab0dc00-f95c-4439-a402-6e0a800dcba5\" class=\"colab-df-container\">\n",
              "    <div>\n",
              "<style scoped>\n",
              "    .dataframe tbody tr th:only-of-type {\n",
              "        vertical-align: middle;\n",
              "    }\n",
              "\n",
              "    .dataframe tbody tr th {\n",
              "        vertical-align: top;\n",
              "    }\n",
              "\n",
              "    .dataframe thead th {\n",
              "        text-align: right;\n",
              "    }\n",
              "</style>\n",
              "<table border=\"1\" class=\"dataframe\">\n",
              "  <thead>\n",
              "    <tr style=\"text-align: right;\">\n",
              "      <th></th>\n",
              "      <th>title</th>\n",
              "      <th>description</th>\n",
              "      <th>url</th>\n",
              "    </tr>\n",
              "  </thead>\n",
              "  <tbody>\n",
              "    <tr>\n",
              "      <th>0</th>\n",
              "      <td>3D</td>\n",
              "      <td>3D refers to the use of three-dimensional grap...</td>\n",
              "      <td>https://github.com/topics/3d</td>\n",
              "    </tr>\n",
              "    <tr>\n",
              "      <th>1</th>\n",
              "      <td>Ajax</td>\n",
              "      <td>Ajax is a technique for creating interactive w...</td>\n",
              "      <td>https://github.com/topics/ajax</td>\n",
              "    </tr>\n",
              "    <tr>\n",
              "      <th>2</th>\n",
              "      <td>Algorithm</td>\n",
              "      <td>Algorithms are self-contained sequences that c...</td>\n",
              "      <td>https://github.com/topics/algorithm</td>\n",
              "    </tr>\n",
              "    <tr>\n",
              "      <th>3</th>\n",
              "      <td>Amp</td>\n",
              "      <td>Amp is a non-blocking concurrency library for ...</td>\n",
              "      <td>https://github.com/topics/amphp</td>\n",
              "    </tr>\n",
              "    <tr>\n",
              "      <th>4</th>\n",
              "      <td>Android</td>\n",
              "      <td>Android is an operating system built by Google...</td>\n",
              "      <td>https://github.com/topics/android</td>\n",
              "    </tr>\n",
              "    <tr>\n",
              "      <th>5</th>\n",
              "      <td>Angular</td>\n",
              "      <td>Angular is an open source web application plat...</td>\n",
              "      <td>https://github.com/topics/angular</td>\n",
              "    </tr>\n",
              "    <tr>\n",
              "      <th>6</th>\n",
              "      <td>Ansible</td>\n",
              "      <td>Ansible is a simple and powerful automation en...</td>\n",
              "      <td>https://github.com/topics/ansible</td>\n",
              "    </tr>\n",
              "    <tr>\n",
              "      <th>7</th>\n",
              "      <td>API</td>\n",
              "      <td>An API (Application Programming Interface) is ...</td>\n",
              "      <td>https://github.com/topics/api</td>\n",
              "    </tr>\n",
              "    <tr>\n",
              "      <th>8</th>\n",
              "      <td>Arduino</td>\n",
              "      <td>Arduino is an open source platform for buildin...</td>\n",
              "      <td>https://github.com/topics/arduino</td>\n",
              "    </tr>\n",
              "    <tr>\n",
              "      <th>9</th>\n",
              "      <td>ASP.NET</td>\n",
              "      <td>ASP.NET is a web framework for building modern...</td>\n",
              "      <td>https://github.com/topics/aspnet</td>\n",
              "    </tr>\n",
              "    <tr>\n",
              "      <th>10</th>\n",
              "      <td>Awesome Lists</td>\n",
              "      <td>An awesome list is a list of awesome things cu...</td>\n",
              "      <td>https://github.com/topics/awesome</td>\n",
              "    </tr>\n",
              "    <tr>\n",
              "      <th>11</th>\n",
              "      <td>Amazon Web Services</td>\n",
              "      <td>Amazon Web Services provides on-demand cloud c...</td>\n",
              "      <td>https://github.com/topics/aws</td>\n",
              "    </tr>\n",
              "    <tr>\n",
              "      <th>12</th>\n",
              "      <td>Azure</td>\n",
              "      <td>Azure is a cloud computing service created by ...</td>\n",
              "      <td>https://github.com/topics/azure</td>\n",
              "    </tr>\n",
              "    <tr>\n",
              "      <th>13</th>\n",
              "      <td>Babel</td>\n",
              "      <td>Babel is a compiler for writing next generatio...</td>\n",
              "      <td>https://github.com/topics/babel</td>\n",
              "    </tr>\n",
              "    <tr>\n",
              "      <th>14</th>\n",
              "      <td>Bash</td>\n",
              "      <td>Bash is a shell and command language interpret...</td>\n",
              "      <td>https://github.com/topics/bash</td>\n",
              "    </tr>\n",
              "    <tr>\n",
              "      <th>15</th>\n",
              "      <td>Bitcoin</td>\n",
              "      <td>Bitcoin is a cryptocurrency developed by Satos...</td>\n",
              "      <td>https://github.com/topics/bitcoin</td>\n",
              "    </tr>\n",
              "    <tr>\n",
              "      <th>16</th>\n",
              "      <td>Bootstrap</td>\n",
              "      <td>Bootstrap is an HTML, CSS, and JavaScript fram...</td>\n",
              "      <td>https://github.com/topics/bootstrap</td>\n",
              "    </tr>\n",
              "    <tr>\n",
              "      <th>17</th>\n",
              "      <td>Bot</td>\n",
              "      <td>A bot is an application that runs automated ta...</td>\n",
              "      <td>https://github.com/topics/bot</td>\n",
              "    </tr>\n",
              "    <tr>\n",
              "      <th>18</th>\n",
              "      <td>C</td>\n",
              "      <td>C is a general purpose programming language th...</td>\n",
              "      <td>https://github.com/topics/c</td>\n",
              "    </tr>\n",
              "    <tr>\n",
              "      <th>19</th>\n",
              "      <td>Chrome</td>\n",
              "      <td>Chrome is a web browser from the tech company ...</td>\n",
              "      <td>https://github.com/topics/chrome</td>\n",
              "    </tr>\n",
              "    <tr>\n",
              "      <th>20</th>\n",
              "      <td>Chrome extension</td>\n",
              "      <td>Chrome extensions enable users to customize th...</td>\n",
              "      <td>https://github.com/topics/chrome-extension</td>\n",
              "    </tr>\n",
              "    <tr>\n",
              "      <th>21</th>\n",
              "      <td>Command-line interface</td>\n",
              "      <td>A CLI, or command-line interface, is a console...</td>\n",
              "      <td>https://github.com/topics/cli</td>\n",
              "    </tr>\n",
              "    <tr>\n",
              "      <th>22</th>\n",
              "      <td>Clojure</td>\n",
              "      <td>Clojure is a dynamic, general-purpose programm...</td>\n",
              "      <td>https://github.com/topics/clojure</td>\n",
              "    </tr>\n",
              "    <tr>\n",
              "      <th>23</th>\n",
              "      <td>Code quality</td>\n",
              "      <td>Automate your code review with style, quality,...</td>\n",
              "      <td>https://github.com/topics/code-quality</td>\n",
              "    </tr>\n",
              "    <tr>\n",
              "      <th>24</th>\n",
              "      <td>Code review</td>\n",
              "      <td>Ensure your code meets quality standards and s...</td>\n",
              "      <td>https://github.com/topics/code-review</td>\n",
              "    </tr>\n",
              "    <tr>\n",
              "      <th>25</th>\n",
              "      <td>Compiler</td>\n",
              "      <td>Compilers are software that translate higher-l...</td>\n",
              "      <td>https://github.com/topics/compiler</td>\n",
              "    </tr>\n",
              "    <tr>\n",
              "      <th>26</th>\n",
              "      <td>Continuous integration</td>\n",
              "      <td>Automatically build and test your code as you ...</td>\n",
              "      <td>https://github.com/topics/continuous-integration</td>\n",
              "    </tr>\n",
              "    <tr>\n",
              "      <th>27</th>\n",
              "      <td>C++</td>\n",
              "      <td>C++ is a general purpose and object-oriented p...</td>\n",
              "      <td>https://github.com/topics/cpp</td>\n",
              "    </tr>\n",
              "    <tr>\n",
              "      <th>28</th>\n",
              "      <td>Cryptocurrency</td>\n",
              "      <td>A cryptocurrency is a digital currency that us...</td>\n",
              "      <td>https://github.com/topics/cryptocurrency</td>\n",
              "    </tr>\n",
              "    <tr>\n",
              "      <th>29</th>\n",
              "      <td>Crystal</td>\n",
              "      <td>Crystal is a self-hosted, general purpose prog...</td>\n",
              "      <td>https://github.com/topics/crystal</td>\n",
              "    </tr>\n",
              "  </tbody>\n",
              "</table>\n",
              "</div>\n",
              "    <div class=\"colab-df-buttons\">\n",
              "\n",
              "  <div class=\"colab-df-container\">\n",
              "    <button class=\"colab-df-convert\" onclick=\"convertToInteractive('df-4ab0dc00-f95c-4439-a402-6e0a800dcba5')\"\n",
              "            title=\"Convert this dataframe to an interactive table.\"\n",
              "            style=\"display:none;\">\n",
              "\n",
              "  <svg xmlns=\"http://www.w3.org/2000/svg\" height=\"24px\" viewBox=\"0 -960 960 960\">\n",
              "    <path d=\"M120-120v-720h720v720H120Zm60-500h600v-160H180v160Zm220 220h160v-160H400v160Zm0 220h160v-160H400v160ZM180-400h160v-160H180v160Zm440 0h160v-160H620v160ZM180-180h160v-160H180v160Zm440 0h160v-160H620v160Z\"/>\n",
              "  </svg>\n",
              "    </button>\n",
              "\n",
              "  <style>\n",
              "    .colab-df-container {\n",
              "      display:flex;\n",
              "      gap: 12px;\n",
              "    }\n",
              "\n",
              "    .colab-df-convert {\n",
              "      background-color: #E8F0FE;\n",
              "      border: none;\n",
              "      border-radius: 50%;\n",
              "      cursor: pointer;\n",
              "      display: none;\n",
              "      fill: #1967D2;\n",
              "      height: 32px;\n",
              "      padding: 0 0 0 0;\n",
              "      width: 32px;\n",
              "    }\n",
              "\n",
              "    .colab-df-convert:hover {\n",
              "      background-color: #E2EBFA;\n",
              "      box-shadow: 0px 1px 2px rgba(60, 64, 67, 0.3), 0px 1px 3px 1px rgba(60, 64, 67, 0.15);\n",
              "      fill: #174EA6;\n",
              "    }\n",
              "\n",
              "    .colab-df-buttons div {\n",
              "      margin-bottom: 4px;\n",
              "    }\n",
              "\n",
              "    [theme=dark] .colab-df-convert {\n",
              "      background-color: #3B4455;\n",
              "      fill: #D2E3FC;\n",
              "    }\n",
              "\n",
              "    [theme=dark] .colab-df-convert:hover {\n",
              "      background-color: #434B5C;\n",
              "      box-shadow: 0px 1px 3px 1px rgba(0, 0, 0, 0.15);\n",
              "      filter: drop-shadow(0px 1px 2px rgba(0, 0, 0, 0.3));\n",
              "      fill: #FFFFFF;\n",
              "    }\n",
              "  </style>\n",
              "\n",
              "    <script>\n",
              "      const buttonEl =\n",
              "        document.querySelector('#df-4ab0dc00-f95c-4439-a402-6e0a800dcba5 button.colab-df-convert');\n",
              "      buttonEl.style.display =\n",
              "        google.colab.kernel.accessAllowed ? 'block' : 'none';\n",
              "\n",
              "      async function convertToInteractive(key) {\n",
              "        const element = document.querySelector('#df-4ab0dc00-f95c-4439-a402-6e0a800dcba5');\n",
              "        const dataTable =\n",
              "          await google.colab.kernel.invokeFunction('convertToInteractive',\n",
              "                                                    [key], {});\n",
              "        if (!dataTable) return;\n",
              "\n",
              "        const docLinkHtml = 'Like what you see? Visit the ' +\n",
              "          '<a target=\"_blank\" href=https://colab.research.google.com/notebooks/data_table.ipynb>data table notebook</a>'\n",
              "          + ' to learn more about interactive tables.';\n",
              "        element.innerHTML = '';\n",
              "        dataTable['output_type'] = 'display_data';\n",
              "        await google.colab.output.renderOutput(dataTable, element);\n",
              "        const docLink = document.createElement('div');\n",
              "        docLink.innerHTML = docLinkHtml;\n",
              "        element.appendChild(docLink);\n",
              "      }\n",
              "    </script>\n",
              "  </div>\n",
              "\n",
              "\n",
              "<div id=\"df-d2cca25c-3e69-4d79-a6fd-9ad6152aa158\">\n",
              "  <button class=\"colab-df-quickchart\" onclick=\"quickchart('df-d2cca25c-3e69-4d79-a6fd-9ad6152aa158')\"\n",
              "            title=\"Suggest charts\"\n",
              "            style=\"display:none;\">\n",
              "\n",
              "<svg xmlns=\"http://www.w3.org/2000/svg\" height=\"24px\"viewBox=\"0 0 24 24\"\n",
              "     width=\"24px\">\n",
              "    <g>\n",
              "        <path d=\"M19 3H5c-1.1 0-2 .9-2 2v14c0 1.1.9 2 2 2h14c1.1 0 2-.9 2-2V5c0-1.1-.9-2-2-2zM9 17H7v-7h2v7zm4 0h-2V7h2v10zm4 0h-2v-4h2v4z\"/>\n",
              "    </g>\n",
              "</svg>\n",
              "  </button>\n",
              "\n",
              "<style>\n",
              "  .colab-df-quickchart {\n",
              "      --bg-color: #E8F0FE;\n",
              "      --fill-color: #1967D2;\n",
              "      --hover-bg-color: #E2EBFA;\n",
              "      --hover-fill-color: #174EA6;\n",
              "      --disabled-fill-color: #AAA;\n",
              "      --disabled-bg-color: #DDD;\n",
              "  }\n",
              "\n",
              "  [theme=dark] .colab-df-quickchart {\n",
              "      --bg-color: #3B4455;\n",
              "      --fill-color: #D2E3FC;\n",
              "      --hover-bg-color: #434B5C;\n",
              "      --hover-fill-color: #FFFFFF;\n",
              "      --disabled-bg-color: #3B4455;\n",
              "      --disabled-fill-color: #666;\n",
              "  }\n",
              "\n",
              "  .colab-df-quickchart {\n",
              "    background-color: var(--bg-color);\n",
              "    border: none;\n",
              "    border-radius: 50%;\n",
              "    cursor: pointer;\n",
              "    display: none;\n",
              "    fill: var(--fill-color);\n",
              "    height: 32px;\n",
              "    padding: 0;\n",
              "    width: 32px;\n",
              "  }\n",
              "\n",
              "  .colab-df-quickchart:hover {\n",
              "    background-color: var(--hover-bg-color);\n",
              "    box-shadow: 0 1px 2px rgba(60, 64, 67, 0.3), 0 1px 3px 1px rgba(60, 64, 67, 0.15);\n",
              "    fill: var(--button-hover-fill-color);\n",
              "  }\n",
              "\n",
              "  .colab-df-quickchart-complete:disabled,\n",
              "  .colab-df-quickchart-complete:disabled:hover {\n",
              "    background-color: var(--disabled-bg-color);\n",
              "    fill: var(--disabled-fill-color);\n",
              "    box-shadow: none;\n",
              "  }\n",
              "\n",
              "  .colab-df-spinner {\n",
              "    border: 2px solid var(--fill-color);\n",
              "    border-color: transparent;\n",
              "    border-bottom-color: var(--fill-color);\n",
              "    animation:\n",
              "      spin 1s steps(1) infinite;\n",
              "  }\n",
              "\n",
              "  @keyframes spin {\n",
              "    0% {\n",
              "      border-color: transparent;\n",
              "      border-bottom-color: var(--fill-color);\n",
              "      border-left-color: var(--fill-color);\n",
              "    }\n",
              "    20% {\n",
              "      border-color: transparent;\n",
              "      border-left-color: var(--fill-color);\n",
              "      border-top-color: var(--fill-color);\n",
              "    }\n",
              "    30% {\n",
              "      border-color: transparent;\n",
              "      border-left-color: var(--fill-color);\n",
              "      border-top-color: var(--fill-color);\n",
              "      border-right-color: var(--fill-color);\n",
              "    }\n",
              "    40% {\n",
              "      border-color: transparent;\n",
              "      border-right-color: var(--fill-color);\n",
              "      border-top-color: var(--fill-color);\n",
              "    }\n",
              "    60% {\n",
              "      border-color: transparent;\n",
              "      border-right-color: var(--fill-color);\n",
              "    }\n",
              "    80% {\n",
              "      border-color: transparent;\n",
              "      border-right-color: var(--fill-color);\n",
              "      border-bottom-color: var(--fill-color);\n",
              "    }\n",
              "    90% {\n",
              "      border-color: transparent;\n",
              "      border-bottom-color: var(--fill-color);\n",
              "    }\n",
              "  }\n",
              "</style>\n",
              "\n",
              "  <script>\n",
              "    async function quickchart(key) {\n",
              "      const quickchartButtonEl =\n",
              "        document.querySelector('#' + key + ' button');\n",
              "      quickchartButtonEl.disabled = true;  // To prevent multiple clicks.\n",
              "      quickchartButtonEl.classList.add('colab-df-spinner');\n",
              "      try {\n",
              "        const charts = await google.colab.kernel.invokeFunction(\n",
              "            'suggestCharts', [key], {});\n",
              "      } catch (error) {\n",
              "        console.error('Error during call to suggestCharts:', error);\n",
              "      }\n",
              "      quickchartButtonEl.classList.remove('colab-df-spinner');\n",
              "      quickchartButtonEl.classList.add('colab-df-quickchart-complete');\n",
              "    }\n",
              "    (() => {\n",
              "      let quickchartButtonEl =\n",
              "        document.querySelector('#df-d2cca25c-3e69-4d79-a6fd-9ad6152aa158 button');\n",
              "      quickchartButtonEl.style.display =\n",
              "        google.colab.kernel.accessAllowed ? 'block' : 'none';\n",
              "    })();\n",
              "  </script>\n",
              "</div>\n",
              "\n",
              "  <div id=\"id_85186c8d-c8c9-404b-a991-7e1f07b07fd9\">\n",
              "    <style>\n",
              "      .colab-df-generate {\n",
              "        background-color: #E8F0FE;\n",
              "        border: none;\n",
              "        border-radius: 50%;\n",
              "        cursor: pointer;\n",
              "        display: none;\n",
              "        fill: #1967D2;\n",
              "        height: 32px;\n",
              "        padding: 0 0 0 0;\n",
              "        width: 32px;\n",
              "      }\n",
              "\n",
              "      .colab-df-generate:hover {\n",
              "        background-color: #E2EBFA;\n",
              "        box-shadow: 0px 1px 2px rgba(60, 64, 67, 0.3), 0px 1px 3px 1px rgba(60, 64, 67, 0.15);\n",
              "        fill: #174EA6;\n",
              "      }\n",
              "\n",
              "      [theme=dark] .colab-df-generate {\n",
              "        background-color: #3B4455;\n",
              "        fill: #D2E3FC;\n",
              "      }\n",
              "\n",
              "      [theme=dark] .colab-df-generate:hover {\n",
              "        background-color: #434B5C;\n",
              "        box-shadow: 0px 1px 3px 1px rgba(0, 0, 0, 0.15);\n",
              "        filter: drop-shadow(0px 1px 2px rgba(0, 0, 0, 0.3));\n",
              "        fill: #FFFFFF;\n",
              "      }\n",
              "    </style>\n",
              "    <button class=\"colab-df-generate\" onclick=\"generateWithVariable('topics_df')\"\n",
              "            title=\"Generate code using this dataframe.\"\n",
              "            style=\"display:none;\">\n",
              "\n",
              "  <svg xmlns=\"http://www.w3.org/2000/svg\" height=\"24px\"viewBox=\"0 0 24 24\"\n",
              "       width=\"24px\">\n",
              "    <path d=\"M7,19H8.4L18.45,9,17,7.55,7,17.6ZM5,21V16.75L18.45,3.32a2,2,0,0,1,2.83,0l1.4,1.43a1.91,1.91,0,0,1,.58,1.4,1.91,1.91,0,0,1-.58,1.4L9.25,21ZM18.45,9,17,7.55Zm-12,3A5.31,5.31,0,0,0,4.9,8.1,5.31,5.31,0,0,0,1,6.5,5.31,5.31,0,0,0,4.9,4.9,5.31,5.31,0,0,0,6.5,1,5.31,5.31,0,0,0,8.1,4.9,5.31,5.31,0,0,0,12,6.5,5.46,5.46,0,0,0,6.5,12Z\"/>\n",
              "  </svg>\n",
              "    </button>\n",
              "    <script>\n",
              "      (() => {\n",
              "      const buttonEl =\n",
              "        document.querySelector('#id_85186c8d-c8c9-404b-a991-7e1f07b07fd9 button.colab-df-generate');\n",
              "      buttonEl.style.display =\n",
              "        google.colab.kernel.accessAllowed ? 'block' : 'none';\n",
              "\n",
              "      buttonEl.onclick = () => {\n",
              "        google.colab.notebook.generateWithVariable('topics_df');\n",
              "      }\n",
              "      })();\n",
              "    </script>\n",
              "  </div>\n",
              "\n",
              "    </div>\n",
              "  </div>\n"
            ],
            "application/vnd.google.colaboratory.intrinsic+json": {
              "type": "dataframe",
              "variable_name": "topics_df",
              "summary": "{\n  \"name\": \"topics_df\",\n  \"rows\": 30,\n  \"fields\": [\n    {\n      \"column\": \"title\",\n      \"properties\": {\n        \"dtype\": \"string\",\n        \"num_unique_values\": 30,\n        \"samples\": [\n          \"C++\",\n          \"Bitcoin\",\n          \"Code quality\"\n        ],\n        \"semantic_type\": \"\",\n        \"description\": \"\"\n      }\n    },\n    {\n      \"column\": \"description\",\n      \"properties\": {\n        \"dtype\": \"string\",\n        \"num_unique_values\": 30,\n        \"samples\": [\n          \"C++ is a general purpose and object-oriented programming language.\",\n          \"Bitcoin is a cryptocurrency developed by Satoshi Nakamoto.\",\n          \"Automate your code review with style, quality, security, and test\\u2011coverage checks when you need them.\"\n        ],\n        \"semantic_type\": \"\",\n        \"description\": \"\"\n      }\n    },\n    {\n      \"column\": \"url\",\n      \"properties\": {\n        \"dtype\": \"string\",\n        \"num_unique_values\": 30,\n        \"samples\": [\n          \"https://github.com/topics/cpp\",\n          \"https://github.com/topics/bitcoin\",\n          \"https://github.com/topics/code-quality\"\n        ],\n        \"semantic_type\": \"\",\n        \"description\": \"\"\n      }\n    }\n  ]\n}"
            }
          },
          "metadata": {},
          "execution_count": 227
        }
      ]
    },
    {
      "cell_type": "code",
      "source": [
        "topics_df.to_csv('topics.csv', index=None)"
      ],
      "metadata": {
        "id": "6SIYxeBz7tfq"
      },
      "execution_count": 228,
      "outputs": []
    },
    {
      "cell_type": "code",
      "source": [
        "### Getting information out of a topic page"
      ],
      "metadata": {
        "id": "f0stwNpl85YO"
      },
      "execution_count": 229,
      "outputs": []
    },
    {
      "cell_type": "code",
      "source": [
        "topic_page_url = topic_urls[0]"
      ],
      "metadata": {
        "id": "UeIl34s09YDe"
      },
      "execution_count": 230,
      "outputs": []
    },
    {
      "cell_type": "code",
      "source": [
        "topic_page_url"
      ],
      "metadata": {
        "colab": {
          "base_uri": "https://localhost:8080/",
          "height": 36
        },
        "id": "l4kPPhKq9c4Z",
        "outputId": "b961d743-6df1-4043-dfe0-33b696295eb2"
      },
      "execution_count": 231,
      "outputs": [
        {
          "output_type": "execute_result",
          "data": {
            "text/plain": [
              "'https://github.com/topics/3d'"
            ],
            "application/vnd.google.colaboratory.intrinsic+json": {
              "type": "string"
            }
          },
          "metadata": {},
          "execution_count": 231
        }
      ]
    },
    {
      "cell_type": "code",
      "source": [
        "response = requests.get(topic_page_url)"
      ],
      "metadata": {
        "id": "U8kZZCud9fJu"
      },
      "execution_count": 232,
      "outputs": []
    },
    {
      "cell_type": "code",
      "source": [
        "response.status_code"
      ],
      "metadata": {
        "colab": {
          "base_uri": "https://localhost:8080/"
        },
        "id": "MIOeFTry9ll4",
        "outputId": "f7267b82-d594-4062-f549-c9d54457589f"
      },
      "execution_count": 233,
      "outputs": [
        {
          "output_type": "execute_result",
          "data": {
            "text/plain": [
              "200"
            ]
          },
          "metadata": {},
          "execution_count": 233
        }
      ]
    },
    {
      "cell_type": "code",
      "source": [
        "len(response.text)"
      ],
      "metadata": {
        "colab": {
          "base_uri": "https://localhost:8080/"
        },
        "id": "iwSUIeE79tkV",
        "outputId": "cbbfb17d-6400-4637-e587-ebc27f43a2ae"
      },
      "execution_count": 234,
      "outputs": [
        {
          "output_type": "execute_result",
          "data": {
            "text/plain": [
              "524185"
            ]
          },
          "metadata": {},
          "execution_count": 234
        }
      ]
    },
    {
      "cell_type": "code",
      "source": [
        "topic_doc = BeautifulSoup(response.text, 'html.parser')"
      ],
      "metadata": {
        "id": "kwzSwWz0-OQx"
      },
      "execution_count": 235,
      "outputs": []
    },
    {
      "cell_type": "code",
      "source": [
        "h1_selection_class = 'f3 color-fg-muted text-normal lh-condensed'\n",
        "repo_tags = topic_doc.find_all('h3', {'class': h1_selection_class})"
      ],
      "metadata": {
        "id": "P-DoOBWX-cIk"
      },
      "execution_count": 236,
      "outputs": []
    },
    {
      "cell_type": "code",
      "source": [
        "len(repo_tags)"
      ],
      "metadata": {
        "colab": {
          "base_uri": "https://localhost:8080/"
        },
        "id": "b9zlO3X3_MzK",
        "outputId": "8b80f070-d7a9-4a03-e2a3-7767a8e3940e"
      },
      "execution_count": 237,
      "outputs": [
        {
          "output_type": "execute_result",
          "data": {
            "text/plain": [
              "20"
            ]
          },
          "metadata": {},
          "execution_count": 237
        }
      ]
    },
    {
      "cell_type": "code",
      "source": [
        "a_tags = repo_tags[0].find_all('a')"
      ],
      "metadata": {
        "id": "dJPhNKhR_do2"
      },
      "execution_count": 238,
      "outputs": []
    },
    {
      "cell_type": "code",
      "source": [
        "a_tags[0].text.strip()"
      ],
      "metadata": {
        "colab": {
          "base_uri": "https://localhost:8080/",
          "height": 36
        },
        "id": "QTHwAcL6_2iJ",
        "outputId": "a832e04e-026a-47d6-e05d-74acf2d52d58"
      },
      "execution_count": 239,
      "outputs": [
        {
          "output_type": "execute_result",
          "data": {
            "text/plain": [
              "'mrdoob'"
            ],
            "application/vnd.google.colaboratory.intrinsic+json": {
              "type": "string"
            }
          },
          "metadata": {},
          "execution_count": 239
        }
      ]
    },
    {
      "cell_type": "code",
      "source": [
        "a_tags[1].text.strip()"
      ],
      "metadata": {
        "colab": {
          "base_uri": "https://localhost:8080/",
          "height": 36
        },
        "id": "tk8aHQEeAQsJ",
        "outputId": "a3d4e5b1-577b-4dc9-ee99-ec6fa3b5dcaf"
      },
      "execution_count": 240,
      "outputs": [
        {
          "output_type": "execute_result",
          "data": {
            "text/plain": [
              "'three.js'"
            ],
            "application/vnd.google.colaboratory.intrinsic+json": {
              "type": "string"
            }
          },
          "metadata": {},
          "execution_count": 240
        }
      ]
    },
    {
      "cell_type": "code",
      "source": [
        "base_url = 'https://github.com'\n",
        "repo_url = base_url + a_tags[1]['href']\n",
        "print(repo_url)"
      ],
      "metadata": {
        "colab": {
          "base_uri": "https://localhost:8080/"
        },
        "id": "8IgKOBOyAXwL",
        "outputId": "bdec8993-d004-4d36-e334-05d77e4fb35e"
      },
      "execution_count": 241,
      "outputs": [
        {
          "output_type": "stream",
          "name": "stdout",
          "text": [
            "https://github.com/mrdoob/three.js\n"
          ]
        }
      ]
    },
    {
      "cell_type": "code",
      "source": [
        "star_tags = topic_doc.find_all('span', {'class': 'Counter'})"
      ],
      "metadata": {
        "id": "5Ii2KnXgLsWI"
      },
      "execution_count": 242,
      "outputs": []
    },
    {
      "cell_type": "code",
      "source": [
        "len(star_tags)"
      ],
      "metadata": {
        "colab": {
          "base_uri": "https://localhost:8080/"
        },
        "id": "DCVn6vD3PgP3",
        "outputId": "335621d4-bc99-46f0-caa4-805ac61156cf"
      },
      "execution_count": 243,
      "outputs": [
        {
          "output_type": "execute_result",
          "data": {
            "text/plain": [
              "20"
            ]
          },
          "metadata": {},
          "execution_count": 243
        }
      ]
    },
    {
      "cell_type": "code",
      "source": [
        "star_tags[0].text.strip()"
      ],
      "metadata": {
        "colab": {
          "base_uri": "https://localhost:8080/",
          "height": 36
        },
        "id": "hac8A_mBPuNN",
        "outputId": "fff390df-7342-4489-9d27-42845302da9b"
      },
      "execution_count": 244,
      "outputs": [
        {
          "output_type": "execute_result",
          "data": {
            "text/plain": [
              "'103k'"
            ],
            "application/vnd.google.colaboratory.intrinsic+json": {
              "type": "string"
            }
          },
          "metadata": {},
          "execution_count": 244
        }
      ]
    },
    {
      "cell_type": "code",
      "source": [
        "def parse_star_count(stars_str):\n",
        "  stars_str = stars_str.strip()\n",
        "  if stars_str[-1] == 'k':\n",
        "    return int(float(stars_str[:-1]) * 1000)\n",
        "  return int(stars_str)"
      ],
      "metadata": {
        "id": "uh6J2O4BP9DT"
      },
      "execution_count": 245,
      "outputs": []
    },
    {
      "cell_type": "code",
      "source": [
        "parse_star_count(star_tags[0].text.strip())"
      ],
      "metadata": {
        "colab": {
          "base_uri": "https://localhost:8080/"
        },
        "id": "LazE8CwLTEw1",
        "outputId": "76cffc86-3b6a-411a-c689-6da898348a5b"
      },
      "execution_count": 246,
      "outputs": [
        {
          "output_type": "execute_result",
          "data": {
            "text/plain": [
              "103000"
            ]
          },
          "metadata": {},
          "execution_count": 246
        }
      ]
    },
    {
      "cell_type": "code",
      "source": [
        "def get_repo_info(h1_tag, star_tag):\n",
        "  #return allm the required information about repositry\n",
        "  a_tags = h1_tag.find_all('a')\n",
        "  username = a_tags[0].text.strip()\n",
        "  repo_name = a_tags[1].text.strip()\n",
        "  repo_url = base_url + a_tags[1]['href']\n",
        "  stars = parse_star_count(star_tag.text.strip())\n",
        "  return username, repo_name, stars, repo_url"
      ],
      "metadata": {
        "id": "9nRTr95DX3OD"
      },
      "execution_count": 247,
      "outputs": []
    },
    {
      "cell_type": "code",
      "source": [
        "get_repo_info(repo_tags[0], star_tags[0])"
      ],
      "metadata": {
        "colab": {
          "base_uri": "https://localhost:8080/"
        },
        "id": "ZusLNzK8ZXFL",
        "outputId": "98efb7c7-aa32-491d-d246-25106ace58db"
      },
      "execution_count": 248,
      "outputs": [
        {
          "output_type": "execute_result",
          "data": {
            "text/plain": [
              "('mrdoob', 'three.js', 103000, 'https://github.com/mrdoob/three.js')"
            ]
          },
          "metadata": {},
          "execution_count": 248
        }
      ]
    },
    {
      "cell_type": "code",
      "source": [
        "topic_repo_dict = {\n",
        "    'username': [],\n",
        "    'repo_name': [],\n",
        "    'stars': [],\n",
        "    'repo_url': []\n",
        "}\n",
        "\n",
        "for i in range(len(repo_tags)):\n",
        "  repo_info = get_repo_info(repo_tags[i], star_tags[i])\n",
        "  topic_repo_dict['username'].append(repo_info[0])\n",
        "  topic_repo_dict['repo_name'].append(repo_info[1])\n",
        "  topic_repo_dict['stars'].append(repo_info[2])\n",
        "  topic_repo_dict['repo_url'].append(repo_info[3])\n"
      ],
      "metadata": {
        "id": "TSwiCgIHaLpZ"
      },
      "execution_count": 249,
      "outputs": []
    },
    {
      "cell_type": "markdown",
      "source": [
        "# Final Code"
      ],
      "metadata": {
        "id": "jQE07ozROepZ"
      }
    },
    {
      "cell_type": "code",
      "source": [
        "import os\n",
        "\n",
        "def get_topic_page(topic_url):\n",
        "  # Download the Page\n",
        "  response = requests.get(topic_url)\n",
        "# Check Sucessful Response\n",
        "  if response.status_code != 200:\n",
        "    raise Exception('Failed to load page {}'.format(topic_url))\n",
        "# Parse using BeutifulSoup\n",
        "  topic_doc = BeautifulSoup(response.text, 'html.parser')\n",
        "  return topic_doc\n",
        "\n",
        "def get_repo_info(h1_tag, star_tag):\n",
        "  #return allm the required information about repositry\n",
        "  a_tags = h1_tag.find_all('a')\n",
        "  username = a_tags[0].text.strip()\n",
        "  repo_name = a_tags[1].text.strip()\n",
        "  repo_url = base_url + a_tags[1]['href']\n",
        "  stars = parse_star_count(star_tag.text.strip())\n",
        "  return username, repo_name, stars, repo_url\n",
        "\n",
        "def get_topic_repos(topic_doc):\n",
        "\n",
        "# Get the h1 tag Containing repo titile, repo url and username\n",
        "    h1_selection_class = 'f3 color-fg-muted text-normal lh-condensed'\n",
        "    repo_tags = topic_doc.find_all('h3', {'class': h1_selection_class})\n",
        "# get Star tag\n",
        "    star_tags = topic_doc.find_all('span', {'class': 'Counter'})\n",
        "\n",
        "\n",
        "    topic_repo_dict = {\n",
        "        'username': [],\n",
        "        'repo_name': [],\n",
        "        'stars': [],\n",
        "        'repo_url': []\n",
        "    }\n",
        "\n",
        "\n",
        "    # get repo info\n",
        "    for i in range(len(repo_tags)):\n",
        "        repo_info = get_repo_info(repo_tags[i], star_tags[i])\n",
        "        topic_repo_dict['username'].append(repo_info[0])\n",
        "        topic_repo_dict['repo_name'].append(repo_info[1])\n",
        "        topic_repo_dict['stars'].append(repo_info[2])\n",
        "        topic_repo_dict['repo_url'].append(repo_info[3])\n",
        "    return pd.DataFrame(topic_repo_dict)\n",
        "\n",
        "def scrape_topic(topic_url, path):\n",
        "  if os.path.exists(path):\n",
        "    print('The file {} already exists. Skipping...'.format(path))\n",
        "    return\n",
        "  topic_df = get_topic_repos(get_topic_page(topic_url))\n",
        "  topic_df.to_csv(path, index=None)"
      ],
      "metadata": {
        "id": "kpitXvOycWGW"
      },
      "execution_count": 250,
      "outputs": []
    },
    {
      "cell_type": "markdown",
      "source": [
        "### Write a single function:\n",
        "1. Get the list of topics from the topics page\n",
        "2. Get the list of top repos from the individual topic pages\n",
        "3. For each topic, create a CSV of the top repos for the topic"
      ],
      "metadata": {
        "id": "JZFuYhttVNvv"
      }
    },
    {
      "cell_type": "code",
      "source": [
        "def get_topic_titles(doc):\n",
        "  selection_class = 'f3 lh-condensed mb-0 mt-1 Link--primary'\n",
        "  topic_title_tags = doc.find_all('p',{'class' : selection_class})\n",
        "  topic_titles = []\n",
        "  for tag in topic_title_tags:\n",
        "    topic_titles.append(tag.text)\n",
        "  return topic_titles\n",
        "\n",
        "def get_topic_descs(doc):\n",
        "  desc_selector = 'f5 color-fg-muted mb-0 mt-1'\n",
        "  topic_desc_tags = doc.find_all('p', {'class': desc_selector})\n",
        "  topic_descs =[]\n",
        "  for tag in topic_desc_tags:\n",
        "    topic_descs.append(tag.text.strip())\n",
        "  return topic_descs\n",
        "\n",
        "def get_topic_urls(doc):\n",
        "  topic_link_tags = doc.find_all('a', {'class': 'no-underline flex-grow-0'})\n",
        "  topic_urls =[]\n",
        "  base_url = 'https://github.com'\n",
        "  for tag in topic_link_tags:\n",
        "    topic_urls.append(base_url + tag['href'])\n",
        "  return topic_urls\n",
        "\n",
        "\n",
        "def scrape_topics():\n",
        "  topics_url = 'https://github.com/topics'\n",
        "  response = requests.get(topics_url)\n",
        "\n",
        "  if response.status_code != 200:\n",
        "    raise Exception('Failed to load page {}'.format(topic_url))\n",
        "\n",
        "  else:\n",
        "    doc = BeautifulSoup(response.text, 'html.parser')\n",
        "    topics_dict = {\n",
        "    'title': get_topic_titles(doc),\n",
        "    'description': get_topic_descs(doc),\n",
        "    'url': get_topic_urls(doc)\n",
        "  }\n",
        "  return pd.DataFrame(topics_dict)"
      ],
      "metadata": {
        "id": "yvrZ6_3ccQ5I"
      },
      "execution_count": 251,
      "outputs": []
    },
    {
      "cell_type": "code",
      "source": [
        "import os\n",
        "\n",
        "help(os.makedirs)"
      ],
      "metadata": {
        "colab": {
          "base_uri": "https://localhost:8080/"
        },
        "id": "dwcBSOPbNCB7",
        "outputId": "f060a10e-2b7d-4112-b892-ea8703a6001d"
      },
      "execution_count": 252,
      "outputs": [
        {
          "output_type": "stream",
          "name": "stdout",
          "text": [
            "Help on function makedirs in module os:\n",
            "\n",
            "makedirs(name, mode=511, exist_ok=False)\n",
            "    makedirs(name [, mode=0o777][, exist_ok=False])\n",
            "    \n",
            "    Super-mkdir; create a leaf directory and all intermediate ones.  Works like\n",
            "    mkdir, except that any intermediate path segment (not just the rightmost)\n",
            "    will be created if it does not exist. If the target directory already\n",
            "    exists, raise an OSError if exist_ok is False. Otherwise no exception is\n",
            "    raised.  This is recursive.\n",
            "\n"
          ]
        }
      ]
    },
    {
      "cell_type": "code",
      "source": [
        "def scrape_topics_repos():\n",
        "  print('Scraping list of topics')\n",
        "  topics_df = scrape_topics()\n",
        "\n",
        "  os.makedirs('data', exist_ok=True)\n",
        "  for index, row in topics_df.iterrows():\n",
        "    print('Scraping top repositories for \"{}\"'.format(row['title']))\n",
        "    scrape_topic(row['url'], 'data/{}.csv'.format(row['title']))"
      ],
      "metadata": {
        "id": "w6nYNopPAnBn"
      },
      "execution_count": 253,
      "outputs": []
    },
    {
      "cell_type": "code",
      "source": [
        "scrape_topics_repos()"
      ],
      "metadata": {
        "colab": {
          "base_uri": "https://localhost:8080/"
        },
        "id": "M1_MXHL2CFGj",
        "outputId": "ef48578d-256d-497c-81c9-56565fed6894"
      },
      "execution_count": 254,
      "outputs": [
        {
          "output_type": "stream",
          "name": "stdout",
          "text": [
            "Scraping list of topics\n",
            "Scraping top repositories for \"3D\"\n",
            "The file data/3D.csv already exists. Skipping...\n",
            "Scraping top repositories for \"Ajax\"\n",
            "The file data/Ajax.csv already exists. Skipping...\n",
            "Scraping top repositories for \"Algorithm\"\n",
            "The file data/Algorithm.csv already exists. Skipping...\n",
            "Scraping top repositories for \"Amp\"\n",
            "The file data/Amp.csv already exists. Skipping...\n",
            "Scraping top repositories for \"Android\"\n",
            "The file data/Android.csv already exists. Skipping...\n",
            "Scraping top repositories for \"Angular\"\n",
            "The file data/Angular.csv already exists. Skipping...\n",
            "Scraping top repositories for \"Ansible\"\n",
            "The file data/Ansible.csv already exists. Skipping...\n",
            "Scraping top repositories for \"API\"\n",
            "The file data/API.csv already exists. Skipping...\n",
            "Scraping top repositories for \"Arduino\"\n",
            "The file data/Arduino.csv already exists. Skipping...\n",
            "Scraping top repositories for \"ASP.NET\"\n",
            "The file data/ASP.NET.csv already exists. Skipping...\n",
            "Scraping top repositories for \"Awesome Lists\"\n",
            "The file data/Awesome Lists.csv already exists. Skipping...\n",
            "Scraping top repositories for \"Amazon Web Services\"\n",
            "The file data/Amazon Web Services.csv already exists. Skipping...\n",
            "Scraping top repositories for \"Azure\"\n",
            "The file data/Azure.csv already exists. Skipping...\n",
            "Scraping top repositories for \"Babel\"\n",
            "The file data/Babel.csv already exists. Skipping...\n",
            "Scraping top repositories for \"Bash\"\n",
            "The file data/Bash.csv already exists. Skipping...\n",
            "Scraping top repositories for \"Bitcoin\"\n",
            "The file data/Bitcoin.csv already exists. Skipping...\n",
            "Scraping top repositories for \"Bootstrap\"\n",
            "The file data/Bootstrap.csv already exists. Skipping...\n",
            "Scraping top repositories for \"Bot\"\n",
            "The file data/Bot.csv already exists. Skipping...\n",
            "Scraping top repositories for \"C\"\n",
            "The file data/C.csv already exists. Skipping...\n",
            "Scraping top repositories for \"Chrome\"\n",
            "The file data/Chrome.csv already exists. Skipping...\n",
            "Scraping top repositories for \"Chrome extension\"\n",
            "The file data/Chrome extension.csv already exists. Skipping...\n",
            "Scraping top repositories for \"Command-line interface\"\n",
            "The file data/Command-line interface.csv already exists. Skipping...\n",
            "Scraping top repositories for \"Clojure\"\n",
            "The file data/Clojure.csv already exists. Skipping...\n",
            "Scraping top repositories for \"Code quality\"\n",
            "The file data/Code quality.csv already exists. Skipping...\n",
            "Scraping top repositories for \"Code review\"\n",
            "The file data/Code review.csv already exists. Skipping...\n",
            "Scraping top repositories for \"Compiler\"\n",
            "The file data/Compiler.csv already exists. Skipping...\n",
            "Scraping top repositories for \"Continuous integration\"\n",
            "The file data/Continuous integration.csv already exists. Skipping...\n",
            "Scraping top repositories for \"C++\"\n",
            "The file data/C++.csv already exists. Skipping...\n",
            "Scraping top repositories for \"Cryptocurrency\"\n",
            "The file data/Cryptocurrency.csv already exists. Skipping...\n",
            "Scraping top repositories for \"Crystal\"\n",
            "The file data/Crystal.csv already exists. Skipping...\n"
          ]
        }
      ]
    },
    {
      "cell_type": "code",
      "source": [],
      "metadata": {
        "id": "oq7itX0qPbKr"
      },
      "execution_count": 254,
      "outputs": []
    }
  ]
}